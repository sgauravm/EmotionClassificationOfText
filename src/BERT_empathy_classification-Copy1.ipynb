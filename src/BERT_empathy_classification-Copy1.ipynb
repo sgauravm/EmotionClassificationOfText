{
 "cells": [
  {
   "cell_type": "code",
   "execution_count": 20,
   "metadata": {},
   "outputs": [],
   "source": [
    "from transformers import DistilBertTokenizerFast, DistilBertForSequenceClassification,AdamW,BertForSequenceClassification,DistilBertModel\n",
    "import torch\n",
    "from torch.utils.data import DataLoader\n",
    "import pickle\n",
    "from sklearn.model_selection import train_test_split\n",
    "import numpy as np\n",
    "import tqdm\n",
    "import sys\n",
    "from sklearn.feature_extraction.text import TfidfVectorizer\n",
    "from sklearn.linear_model import LogisticRegression\n",
    "import pandas as pd\n",
    "import torch.nn as nn\n",
    "from transformers import BartTokenizer, BartForSequenceClassification,BertTokenizer\n",
    "%matplotlib inline\n",
    "import itertools\n",
    "import matplotlib.pyplot as plt\n",
    "from sklearn.metrics import f1_score,accuracy_score,confusion_matrix"
   ]
  },
  {
   "cell_type": "code",
   "execution_count": 2,
   "metadata": {},
   "outputs": [
    {
     "name": "stdout",
     "output_type": "stream",
     "text": [
      "Wed Jan 13 09:52:21 2021       \n",
      "+-----------------------------------------------------------------------------+\n",
      "| NVIDIA-SMI 450.51.06    Driver Version: 450.51.06    CUDA Version: 11.0     |\n",
      "|-------------------------------+----------------------+----------------------+\n",
      "| GPU  Name        Persistence-M| Bus-Id        Disp.A | Volatile Uncorr. ECC |\n",
      "| Fan  Temp  Perf  Pwr:Usage/Cap|         Memory-Usage | GPU-Util  Compute M. |\n",
      "|                               |                      |               MIG M. |\n",
      "|===============================+======================+======================|\n",
      "|   0  Tesla V100-PCIE...  On   | 00000000:04:00.0 Off |                    0 |\n",
      "| N/A   32C    P0    24W / 250W |      8MiB / 16160MiB |      0%      Default |\n",
      "|                               |                      |                  N/A |\n",
      "+-------------------------------+----------------------+----------------------+\n",
      "|   1  Tesla V100-PCIE...  On   | 00000000:06:00.0 Off |                    0 |\n",
      "| N/A   31C    P0    24W / 250W |      8MiB / 16160MiB |      0%      Default |\n",
      "|                               |                      |                  N/A |\n",
      "+-------------------------------+----------------------+----------------------+\n",
      "|   2  Tesla V100-PCIE...  On   | 00000000:07:00.0 Off |                    0 |\n",
      "| N/A   33C    P0    26W / 250W |      8MiB / 32510MiB |      0%      Default |\n",
      "|                               |                      |                  N/A |\n",
      "+-------------------------------+----------------------+----------------------+\n",
      "|   3  Tesla V100-PCIE...  On   | 00000000:08:00.0 Off |                    0 |\n",
      "| N/A   31C    P0    24W / 250W |      8MiB / 16160MiB |      0%      Default |\n",
      "|                               |                      |                  N/A |\n",
      "+-------------------------------+----------------------+----------------------+\n",
      "|   4  Tesla V100-PCIE...  On   | 00000000:0C:00.0 Off |                    0 |\n",
      "| N/A   33C    P0    23W / 250W |      8MiB / 16160MiB |      0%      Default |\n",
      "|                               |                      |                  N/A |\n",
      "+-------------------------------+----------------------+----------------------+\n",
      "|   5  Tesla V100-PCIE...  On   | 00000000:0D:00.0 Off |                    0 |\n",
      "| N/A   31C    P0    23W / 250W |      8MiB / 32510MiB |      0%      Default |\n",
      "|                               |                      |                  N/A |\n",
      "+-------------------------------+----------------------+----------------------+\n",
      "|   6  Tesla V100-PCIE...  On   | 00000000:0E:00.0 Off |                    0 |\n",
      "| N/A   31C    P0    25W / 250W |      8MiB / 16160MiB |      0%      Default |\n",
      "|                               |                      |                  N/A |\n",
      "+-------------------------------+----------------------+----------------------+\n",
      "|   7  Tesla V100-PCIE...  On   | 00000000:0F:00.0 Off |                    0 |\n",
      "| N/A   30C    P0    25W / 250W |      8MiB / 16160MiB |      0%      Default |\n",
      "|                               |                      |                  N/A |\n",
      "+-------------------------------+----------------------+----------------------+\n",
      "                                                                               \n",
      "+-----------------------------------------------------------------------------+\n",
      "| Processes:                                                                  |\n",
      "|  GPU   GI   CI        PID   Type   Process name                  GPU Memory |\n",
      "|        ID   ID                                                   Usage      |\n",
      "|=============================================================================|\n",
      "|    0   N/A  N/A      1698      G   /usr/lib/xorg/Xorg                  4MiB |\n",
      "|    1   N/A  N/A      1698      G   /usr/lib/xorg/Xorg                  4MiB |\n",
      "|    2   N/A  N/A      1698      G   /usr/lib/xorg/Xorg                  4MiB |\n",
      "|    3   N/A  N/A      1698      G   /usr/lib/xorg/Xorg                  4MiB |\n",
      "|    4   N/A  N/A      1698      G   /usr/lib/xorg/Xorg                  4MiB |\n",
      "|    5   N/A  N/A      1698      G   /usr/lib/xorg/Xorg                  4MiB |\n",
      "|    6   N/A  N/A      1698      G   /usr/lib/xorg/Xorg                  4MiB |\n",
      "|    7   N/A  N/A      1698      G   /usr/lib/xorg/Xorg                  4MiB |\n",
      "+-----------------------------------------------------------------------------+\n"
     ]
    }
   ],
   "source": [
    "!nvidia-smi"
   ]
  },
  {
   "cell_type": "code",
   "execution_count": 3,
   "metadata": {},
   "outputs": [
    {
     "name": "stdout",
     "output_type": "stream",
     "text": [
      "/bin/bash: line 0: kill: (57000) - No such process\n"
     ]
    }
   ],
   "source": [
    "!kill -9 57000"
   ]
  },
  {
   "cell_type": "markdown",
   "metadata": {},
   "source": [
    "## Functions"
   ]
  },
  {
   "cell_type": "code",
   "execution_count": 21,
   "metadata": {},
   "outputs": [],
   "source": [
    "def accuracy(out_logits,labels):\n",
    "    labels = labels.detach().cpu().numpy()\n",
    "    predicted = out_logits.detach().cpu().numpy()\n",
    "    predicted = np.argmax(predicted,axis=1).reshape(labels.shape)\n",
    "    return np.mean(labels == predicted)\n",
    "\n",
    "def val_params(model,val_loader):\n",
    "    temp = model.eval()\n",
    "    num_batches = 0\n",
    "    loss_sum = 0\n",
    "    accuracy_sum =0\n",
    "    for batch in val_loader:\n",
    "        input_ids = batch['input_ids'].to(device)\n",
    "        attention_mask = batch['attention_mask'].to(device)\n",
    "        labels = batch['labels'].to(device)\n",
    "        with torch.no_grad():\n",
    "            outputs = model.forward(input_ids, attention_mask=attention_mask,labels=labels)\n",
    "        target = torch.eye(len(id2lab))[labels.detach().cpu()].to(device)\n",
    "        #loss_mse = mse_criterion(outputs.logits,target)\n",
    "        loss = criterion(outputs.logits.view(-1,len(id2lab)),labels.view(-1))\n",
    "        loss = loss \n",
    "        loss_sum += loss.item()\n",
    "        accuracy_sum += accuracy(outputs.logits,labels)\n",
    "        num_batches +=1\n",
    "    return loss_sum/num_batches,accuracy_sum/num_batches\n",
    "\n",
    "class EmpathyDataset(torch.utils.data.Dataset):\n",
    "    def __init__(self, encodings, labels):\n",
    "        self.encodings = encodings\n",
    "        self.labels = labels\n",
    "\n",
    "    def __getitem__(self, idx):\n",
    "        item = {key: val[idx] for key, val in self.encodings.items()}\n",
    "        item['labels'] = torch.tensor(self.labels[idx])\n",
    "        return item\n",
    "\n",
    "    def __len__(self):\n",
    "        return len(self.labels)\n",
    "    \n",
    "\n",
    "def plot_confusion_matrix(cm, classes,\n",
    "                        normalize=False,\n",
    "                        title='Confusion matrix',\n",
    "                        cmap=plt.cm.Blues,\n",
    "                         figsize = (10,10)):\n",
    "    \"\"\"\n",
    "    This function prints and plots the confusion matrix.\n",
    "    Normalization can be applied by setting `normalize=True`.\n",
    "    \"\"\"\n",
    "    if normalize:\n",
    "        cm = cm.astype('float') / cm.sum(axis=1)[:, np.newaxis]\n",
    "        cm =np.round(cm,2)\n",
    "        print(\"Normalized confusion matrix\")\n",
    "    else:\n",
    "        print('Confusion matrix, without normalization')\n",
    "    \n",
    "    plt.rcParams[\"figure.figsize\"] = figsize\n",
    "    plt.imshow(cm, interpolation='nearest', cmap=cmap)\n",
    "    plt.title(title)\n",
    "    plt.colorbar()\n",
    "    tick_marks = np.arange(len(classes))\n",
    "    plt.xticks(tick_marks, classes, rotation=45)\n",
    "    plt.yticks(tick_marks, classes)\n",
    "\n",
    "    \n",
    "    \n",
    "\n",
    "    thresh = cm.max() / 2.\n",
    "    for i, j in itertools.product(range(cm.shape[0]), range(cm.shape[1])):\n",
    "        plt.text(j, i, cm[i, j],\n",
    "            horizontalalignment=\"center\",\n",
    "            color=\"white\" if cm[i, j] > thresh else \"black\")\n",
    "\n",
    "    plt.tight_layout()\n",
    "    plt.ylabel('True label')\n",
    "    plt.xlabel('Predicted label')\n",
    "\n",
    "def get_dataloader(text,tokenizer,labels=None,batch_size=32):\n",
    "    if labels is None:\n",
    "        labels = [0]*len(text)\n",
    "    encodings = tokenizer(text,truncation=True, padding='longest', return_tensors=\"pt\")\n",
    "    dataset = EmpathyDataset(encodings,labels)\n",
    "    data_loader = DataLoader(dataset, batch_size=batch_size, shuffle=True)\n",
    "    return data_loader\n",
    "    "
   ]
  },
  {
   "cell_type": "markdown",
   "metadata": {},
   "source": [
    "## Setup"
   ]
  },
  {
   "cell_type": "code",
   "execution_count": 22,
   "metadata": {},
   "outputs": [],
   "source": [
    "device = torch.device('cuda:0') if torch.cuda.is_available() else torch.device('cpu')"
   ]
  },
  {
   "cell_type": "code",
   "execution_count": 27,
   "metadata": {},
   "outputs": [],
   "source": [
    "model_names = [\n",
    "    'facebook/bart-large',\n",
    "    'bert-base-uncased',\n",
    "    \"../model/BART_empathy_15_classes/\",\n",
    "    \"../model/BERT_empathy_15_classes/\",\n",
    "    \"../model/BART_empathy_14_classes/\",\n",
    "    \"../model/BART_empathy_14_classes_weighted_loss/\"\n",
    "]"
   ]
  },
  {
   "cell_type": "code",
   "execution_count": 28,
   "metadata": {},
   "outputs": [],
   "source": [
    "Model = BartForSequenceClassification\n",
    "model_name = model_names[0]\n",
    "ModelTokenizer = BartTokenizer\n",
    "path_to_save = \"../model/BART_14_weight_anxious/\" "
   ]
  },
  {
   "cell_type": "code",
   "execution_count": 3,
   "metadata": {},
   "outputs": [],
   "source": [
    "df = pickle.load(open(\"../data/empathy_cls_df.p\",\"rb\"))"
   ]
  },
  {
   "cell_type": "code",
   "execution_count": 6,
   "metadata": {},
   "outputs": [
    {
     "name": "stdout",
     "output_type": "stream",
     "text": [
      "/home/gsinha1/Documents/empathy_recognition/src\n"
     ]
    }
   ],
   "source": [
    "!pwd"
   ]
  },
  {
   "cell_type": "code",
   "execution_count": null,
   "metadata": {},
   "outputs": [],
   "source": [
    "gsinha1@melco.cs.ualberta.ca:/home/gsinha1/Documents/empathy_recognition/data/empathy_cls_df.p"
   ]
  },
  {
   "cell_type": "markdown",
   "metadata": {},
   "source": [
    "## Data preprocessing\n"
   ]
  },
  {
   "cell_type": "code",
   "execution_count": 23,
   "metadata": {},
   "outputs": [],
   "source": [
    "df = pickle.load(open(\"../data/empathy_cls_valid_df.p\",\"rb\"))\n",
    "id_to_lab = list(set(df.context))\n",
    "lab_to_id = { lab : idx  for idx,lab in enumerate(id_to_lab)}\n",
    "grouped_emotions =[\n",
    "    ['annoyed','angry','disgusted','furious'],\n",
    "    ['embarrassed','ashamed','guilty'],\n",
    "    ['afraid','terrified','anxious','apprehensive'],\n",
    "    ['nostalgic','sentimental'],\n",
    "    ['hopeful','anticipating'],\n",
    "    #[],\n",
    "    ['lonely','sad','devastated','disappointed'],\n",
    "    ['joyful','excited','content','proud'],\n",
    "    ['faithful','trusting'],\n",
    "    ['prepared','confident'],\n",
    "    ['caring'],\n",
    "    ['grateful'],\n",
    "    ['impressed'],\n",
    "    ['jealous'],\n",
    "    ['surprised']\n",
    "    #['no_emo']\n",
    "  ]\n",
    "id2lab = [\n",
    "    'angry',\n",
    "    'ashamed',\n",
    "    'afraid',\n",
    "    'sentimental',\n",
    "    'hopeful',\n",
    "    #'apprehensive',\n",
    "    'sad',\n",
    "    'happy',\n",
    "    'faithful',\n",
    "    'confident',\n",
    "    'caring',\n",
    "    'grateful',\n",
    "    'impressed',\n",
    "    'jealous',\n",
    "    'surprised'\n",
    "    #'no_emo'\n",
    "]\n",
    "\n",
    "full_lab2id = {}\n",
    "for emo in id_to_lab:\n",
    "    for i,lst in enumerate(grouped_emotions):\n",
    "        if emo in lst:\n",
    "            full_lab2id[emo]=i\n",
    "\n",
    "lab2id = { emo:i for i,emo in enumerate(id2lab)}"
   ]
  },
  {
   "cell_type": "code",
   "execution_count": 9,
   "metadata": {},
   "outputs": [],
   "source": [
    "y = [ full_lab2id[lab] for lab in list(df.context)]\n",
    "x = list(map(lambda x:x.replace('_comma_',','),list(df.prompt)))"
   ]
  },
  {
   "cell_type": "code",
   "execution_count": 10,
   "metadata": {},
   "outputs": [],
   "source": [
    "# pd.DataFrame({\n",
    "#     'tar':list(map(lambda x:id2lab[x],y_val)),\n",
    "#     'lab':list(map(lambda x:id2lab[x],y_val))\n",
    "# }).groupby('tar').agg('count')"
   ]
  },
  {
   "cell_type": "code",
   "execution_count": 11,
   "metadata": {},
   "outputs": [],
   "source": [
    "x_train, x_val, y_train, y_val = train_test_split(x, y, test_size=0.99, random_state=42)"
   ]
  },
  {
   "cell_type": "code",
   "execution_count": 12,
   "metadata": {},
   "outputs": [
    {
     "ename": "ZeroDivisionError",
     "evalue": "division by zero",
     "output_type": "error",
     "traceback": [
      "\u001b[0;31m---------------------------------------------------------------------------\u001b[0m",
      "\u001b[0;31mZeroDivisionError\u001b[0m                         Traceback (most recent call last)",
      "\u001b[0;32m<ipython-input-12-f58666f1fe91>\u001b[0m in \u001b[0;36m<module>\u001b[0;34m\u001b[0m\n\u001b[1;32m      2\u001b[0m \u001b[0;32mfor\u001b[0m \u001b[0midx\u001b[0m \u001b[0;32min\u001b[0m \u001b[0my_train\u001b[0m\u001b[0;34m:\u001b[0m\u001b[0;34m\u001b[0m\u001b[0;34m\u001b[0m\u001b[0m\n\u001b[1;32m      3\u001b[0m     \u001b[0mcounts\u001b[0m\u001b[0;34m[\u001b[0m\u001b[0midx\u001b[0m\u001b[0;34m]\u001b[0m\u001b[0;34m+=\u001b[0m\u001b[0;36m1\u001b[0m\u001b[0;34m\u001b[0m\u001b[0;34m\u001b[0m\u001b[0m\n\u001b[0;32m----> 4\u001b[0;31m \u001b[0mweights\u001b[0m \u001b[0;34m=\u001b[0m \u001b[0;34m[\u001b[0m\u001b[0;36m100\u001b[0m\u001b[0;34m/\u001b[0m\u001b[0mcount\u001b[0m \u001b[0;32mfor\u001b[0m \u001b[0mcount\u001b[0m \u001b[0;32min\u001b[0m \u001b[0mcounts\u001b[0m\u001b[0;34m]\u001b[0m\u001b[0;34m\u001b[0m\u001b[0;34m\u001b[0m\u001b[0m\n\u001b[0m",
      "\u001b[0;32m<ipython-input-12-f58666f1fe91>\u001b[0m in \u001b[0;36m<listcomp>\u001b[0;34m(.0)\u001b[0m\n\u001b[1;32m      2\u001b[0m \u001b[0;32mfor\u001b[0m \u001b[0midx\u001b[0m \u001b[0;32min\u001b[0m \u001b[0my_train\u001b[0m\u001b[0;34m:\u001b[0m\u001b[0;34m\u001b[0m\u001b[0;34m\u001b[0m\u001b[0m\n\u001b[1;32m      3\u001b[0m     \u001b[0mcounts\u001b[0m\u001b[0;34m[\u001b[0m\u001b[0midx\u001b[0m\u001b[0;34m]\u001b[0m\u001b[0;34m+=\u001b[0m\u001b[0;36m1\u001b[0m\u001b[0;34m\u001b[0m\u001b[0;34m\u001b[0m\u001b[0m\n\u001b[0;32m----> 4\u001b[0;31m \u001b[0mweights\u001b[0m \u001b[0;34m=\u001b[0m \u001b[0;34m[\u001b[0m\u001b[0;36m100\u001b[0m\u001b[0;34m/\u001b[0m\u001b[0mcount\u001b[0m \u001b[0;32mfor\u001b[0m \u001b[0mcount\u001b[0m \u001b[0;32min\u001b[0m \u001b[0mcounts\u001b[0m\u001b[0;34m]\u001b[0m\u001b[0;34m\u001b[0m\u001b[0;34m\u001b[0m\u001b[0m\n\u001b[0m",
      "\u001b[0;31mZeroDivisionError\u001b[0m: division by zero"
     ]
    }
   ],
   "source": [
    "counts = [0]*len(id2lab)\n",
    "for idx in y_train:\n",
    "    counts[idx]+=1\n",
    "weights = [100/count for count in counts]"
   ]
  },
  {
   "cell_type": "code",
   "execution_count": 20,
   "metadata": {},
   "outputs": [
    {
     "ename": "NameError",
     "evalue": "name 'weights' is not defined",
     "output_type": "error",
     "traceback": [
      "\u001b[0;31m---------------------------------------------------------------------------\u001b[0m",
      "\u001b[0;31mNameError\u001b[0m                                 Traceback (most recent call last)",
      "\u001b[0;32m<ipython-input-20-6f5ec41569ac>\u001b[0m in \u001b[0;36m<module>\u001b[0;34m\u001b[0m\n\u001b[0;32m----> 1\u001b[0;31m \u001b[0mweights\u001b[0m\u001b[0;34m\u001b[0m\u001b[0;34m\u001b[0m\u001b[0m\n\u001b[0m",
      "\u001b[0;31mNameError\u001b[0m: name 'weights' is not defined"
     ]
    }
   ],
   "source": [
    "weights"
   ]
  },
  {
   "cell_type": "code",
   "execution_count": 21,
   "metadata": {},
   "outputs": [
    {
     "data": {
      "text/html": [
       "<div>\n",
       "<style scoped>\n",
       "    .dataframe tbody tr th:only-of-type {\n",
       "        vertical-align: middle;\n",
       "    }\n",
       "\n",
       "    .dataframe tbody tr th {\n",
       "        vertical-align: top;\n",
       "    }\n",
       "\n",
       "    .dataframe thead th {\n",
       "        text-align: right;\n",
       "    }\n",
       "</style>\n",
       "<table border=\"1\" class=\"dataframe\">\n",
       "  <thead>\n",
       "    <tr style=\"text-align: right;\">\n",
       "      <th></th>\n",
       "      <th>x</th>\n",
       "      <th>y</th>\n",
       "    </tr>\n",
       "  </thead>\n",
       "  <tbody>\n",
       "    <tr>\n",
       "      <th>0</th>\n",
       "      <td>I was disappointed with the score i got on my ...</td>\n",
       "      <td>sad</td>\n",
       "    </tr>\n",
       "    <tr>\n",
       "      <th>1</th>\n",
       "      <td>won $100 on a scratch off card</td>\n",
       "      <td>surprised</td>\n",
       "    </tr>\n",
       "    <tr>\n",
       "      <th>2</th>\n",
       "      <td>My sister's cat got sick and had to be put dow...</td>\n",
       "      <td>sad</td>\n",
       "    </tr>\n",
       "    <tr>\n",
       "      <th>3</th>\n",
       "      <td>I finally got all of my work done for the day....</td>\n",
       "      <td>happy</td>\n",
       "    </tr>\n",
       "    <tr>\n",
       "      <th>4</th>\n",
       "      <td>Yesterday my brother did a back flip off the r...</td>\n",
       "      <td>impressed</td>\n",
       "    </tr>\n",
       "    <tr>\n",
       "      <th>...</th>\n",
       "      <td>...</td>\n",
       "      <td>...</td>\n",
       "    </tr>\n",
       "    <tr>\n",
       "      <th>2731</th>\n",
       "      <td>I am learning how to do day trading and did my...</td>\n",
       "      <td>confident</td>\n",
       "    </tr>\n",
       "    <tr>\n",
       "      <th>2732</th>\n",
       "      <td>I got an phone call from someone I used to kno...</td>\n",
       "      <td>afraid</td>\n",
       "    </tr>\n",
       "    <tr>\n",
       "      <th>2733</th>\n",
       "      <td>As soon as I arrived at the bus stop and the b...</td>\n",
       "      <td>happy</td>\n",
       "    </tr>\n",
       "    <tr>\n",
       "      <th>2734</th>\n",
       "      <td>Earlier this week when I got my yearly review ...</td>\n",
       "      <td>happy</td>\n",
       "    </tr>\n",
       "    <tr>\n",
       "      <th>2735</th>\n",
       "      <td>This year has seen more tornadoes in my area t...</td>\n",
       "      <td>afraid</td>\n",
       "    </tr>\n",
       "  </tbody>\n",
       "</table>\n",
       "<p>2736 rows × 2 columns</p>\n",
       "</div>"
      ],
      "text/plain": [
       "                                                      x          y\n",
       "0     I was disappointed with the score i got on my ...        sad\n",
       "1                        won $100 on a scratch off card  surprised\n",
       "2     My sister's cat got sick and had to be put dow...        sad\n",
       "3     I finally got all of my work done for the day....      happy\n",
       "4     Yesterday my brother did a back flip off the r...  impressed\n",
       "...                                                 ...        ...\n",
       "2731  I am learning how to do day trading and did my...  confident\n",
       "2732  I got an phone call from someone I used to kno...     afraid\n",
       "2733  As soon as I arrived at the bus stop and the b...      happy\n",
       "2734  Earlier this week when I got my yearly review ...      happy\n",
       "2735  This year has seen more tornadoes in my area t...     afraid\n",
       "\n",
       "[2736 rows x 2 columns]"
      ]
     },
     "execution_count": 21,
     "metadata": {},
     "output_type": "execute_result"
    }
   ],
   "source": [
    "pd.set_option( \"display.max_columns\", None)\n",
    "df=pd.DataFrame({\n",
    "    'x':x_val,\n",
    "    'y':list(map(lambda x:id2lab[x],y_val))\n",
    "})\n",
    "df"
   ]
  },
  {
   "cell_type": "markdown",
   "metadata": {},
   "source": [
    "## Tokenization"
   ]
  },
  {
   "cell_type": "code",
   "execution_count": 32,
   "metadata": {},
   "outputs": [],
   "source": [
    "tokenizer = ModelTokenizer.from_pretrained(model_name)"
   ]
  },
  {
   "cell_type": "code",
   "execution_count": 14,
   "metadata": {},
   "outputs": [],
   "source": [
    "train_encodings = tokenizer(x_train,truncation=True, padding='longest', return_tensors=\"pt\")\n",
    "val_encodings = tokenizer(x_val,truncation=True, padding='longest', return_tensors=\"pt\")"
   ]
  },
  {
   "cell_type": "code",
   "execution_count": 15,
   "metadata": {},
   "outputs": [],
   "source": [
    "train_dataset = EmpathyDataset(train_encodings,y_train)\n",
    "val_dataset = EmpathyDataset(val_encodings,y_val)"
   ]
  },
  {
   "cell_type": "code",
   "execution_count": 16,
   "metadata": {},
   "outputs": [],
   "source": [
    "BATCH_SIZE = 16\n",
    "train_loader = DataLoader(train_dataset, batch_size=BATCH_SIZE, shuffle=True)\n",
    "val_loader = DataLoader(val_dataset, batch_size=BATCH_SIZE, shuffle=True)"
   ]
  },
  {
   "cell_type": "markdown",
   "metadata": {},
   "source": [
    "## Model creation"
   ]
  },
  {
   "cell_type": "code",
   "execution_count": 21,
   "metadata": {},
   "outputs": [],
   "source": [
    "class EmpathyClassificationModel(nn.Module):\n",
    "    def __init__(self,device):\n",
    "        super(EmpathyClassificationModel, self).__init__()\n",
    "        self.bert_pt = DistilBertModel.from_pretrained('distilbert-base-uncased').to(device)\n",
    "        self.dense = nn.Linear(768,768).to(device)\n",
    "        self.fc1 = nn.Linear(768,256).to(device)\n",
    "        self.fc2 = nn.Linear(256,32).to(device)\n",
    "        self.tanh = nn.Tanh()\n",
    "        self.dropout = nn.Dropout(p=0.5)\n",
    "    \n",
    "    def forward(self,input_ids,attention_mask):\n",
    "        x = self.bert_pt(input_ids.long(), attention_mask=attention_mask)\n",
    "        x = self.tanh(self.dense(x.last_hidden_state[:,0]))\n",
    "        x = self.dropout(x)\n",
    "        x = self.tanh(self.fc1(x))\n",
    "        x = self.dropout(x)\n",
    "        x = self.fc2(x)\n",
    "        return x\n",
    "#ecm = EmpathyClassificationModel(device)"
   ]
  },
  {
   "cell_type": "code",
   "execution_count": 25,
   "metadata": {},
   "outputs": [
    {
     "data": {
      "text/plain": [
       "15"
      ]
     },
     "execution_count": 25,
     "metadata": {},
     "output_type": "execute_result"
    }
   ],
   "source": [
    "len(id2lab)"
   ]
  },
  {
   "cell_type": "code",
   "execution_count": 26,
   "metadata": {},
   "outputs": [
    {
     "name": "stderr",
     "output_type": "stream",
     "text": [
      "Some weights of BartForSequenceClassification were not initialized from the model checkpoint at facebook/bart-large and are newly initialized: ['classification_head.out_proj.bias', 'classification_head.dense.weight', 'classification_head.out_proj.weight', 'classification_head.dense.bias']\n",
      "You should probably TRAIN this model on a down-stream task to be able to use it for predictions and inference.\n"
     ]
    }
   ],
   "source": [
    "ecm = Model.from_pretrained(model_name,num_labels=len(id2lab)).to(device)"
   ]
  },
  {
   "cell_type": "markdown",
   "metadata": {},
   "source": [
    "## Training Model"
   ]
  },
  {
   "cell_type": "code",
   "execution_count": 27,
   "metadata": {},
   "outputs": [
    {
     "name": "stderr",
     "output_type": "stream",
     "text": [
      "Epoch: 0, Train loss: 1.128587, Train accuracy: 0.656852: 100%|██████████| 519/519 [08:55<00:00,  1.03s/it]\n"
     ]
    },
    {
     "name": "stdout",
     "output_type": "stream",
     "text": [
      "         Val loss: 0.712509, Val accuracy: 0.774546"
     ]
    },
    {
     "name": "stderr",
     "output_type": "stream",
     "text": [
      "Epoch: 1, Train loss: 0.565487, Train accuracy: 0.806118: 100%|██████████| 519/519 [08:46<00:00,  1.01s/it]\n"
     ]
    },
    {
     "name": "stdout",
     "output_type": "stream",
     "text": [
      "         Val loss: 0.666084, Val accuracy: 0.775797"
     ]
    },
    {
     "name": "stderr",
     "output_type": "stream",
     "text": [
      "Epoch: 2, Train loss: 0.360519, Train accuracy: 0.870063: 100%|██████████| 519/519 [08:44<00:00,  1.01s/it]\n"
     ]
    },
    {
     "name": "stdout",
     "output_type": "stream",
     "text": [
      "         Val loss: 0.673408, Val accuracy: 0.782805"
     ]
    },
    {
     "name": "stderr",
     "output_type": "stream",
     "text": [
      "Epoch: 3, Train loss: 0.218815, Train accuracy: 0.919557: 100%|██████████| 519/519 [08:41<00:00,  1.00s/it]\n"
     ]
    },
    {
     "name": "stdout",
     "output_type": "stream",
     "text": [
      "         Val loss: 0.735134, Val accuracy: 0.789706"
     ]
    },
    {
     "name": "stderr",
     "output_type": "stream",
     "text": [
      "Epoch: 4, Train loss: 0.129855, Train accuracy: 0.951168: 100%|██████████| 519/519 [08:44<00:00,  1.01s/it]\n"
     ]
    },
    {
     "name": "stdout",
     "output_type": "stream",
     "text": [
      "         Val loss: 0.785662, Val accuracy: 0.792888"
     ]
    },
    {
     "name": "stderr",
     "output_type": "stream",
     "text": [
      "Epoch: 5, Train loss: 0.072455, Train accuracy: 0.973206: 100%|██████████| 519/519 [08:46<00:00,  1.01s/it]\n"
     ]
    },
    {
     "name": "stdout",
     "output_type": "stream",
     "text": [
      "         Val loss: 0.953941, Val accuracy: 0.787114"
     ]
    }
   ],
   "source": [
    "optim = AdamW(ecm.parameters(), lr=1e-5)\n",
    "weight=torch.tensor(weights).to(device)\n",
    "criterion = nn.CrossEntropyLoss(weight=weight)\n",
    "mse_criterion = nn.MSELoss()\n",
    "EPOCHS=10\n",
    "prev_val_acc = -1\n",
    "temp = ecm.train()\n",
    "for epoch in range(EPOCHS):\n",
    "    loss_sum = 0\n",
    "    accuracy_sum = 0\n",
    "    num_batch = 0\n",
    "    pbar = tqdm.tqdm(train_loader)\n",
    "    for batch in pbar:\n",
    "        optim.zero_grad()\n",
    "        input_ids = batch['input_ids'].to(device)\n",
    "        attention_mask = batch['attention_mask'].to(device)\n",
    "        labels = batch['labels'].to(device)\n",
    "        outputs = ecm(input_ids, attention_mask=attention_mask,labels=labels)\n",
    "        target = torch.eye(len(id2lab))[labels.detach().cpu()].to(device)\n",
    "        #loss_mse = mse_criterion(outputs.logits,target)\n",
    "        loss = criterion(outputs.logits.view(-1,len(id2lab)),labels.view(-1))\n",
    "        loss = loss \n",
    "        #loss = outputs[0]\n",
    "        loss.backward()\n",
    "        optim.step()\n",
    "        loss_sum += loss.item()\n",
    "        accuracy_sum += accuracy(outputs.logits,labels)\n",
    "        num_batch+=1\n",
    "        pbar.set_description(\"Epoch: %s, Train loss: %f, Train accuracy: %f\"%(epoch,loss_sum/num_batch,accuracy_sum/num_batch))\n",
    "    \n",
    "    val_metric = val_params(ecm,val_loader)\n",
    "    sys.stdout.write(\"         Val loss: %f, Val accuracy: %f\"%val_metric)\n",
    "    sys.stdout.flush()\n",
    "    \n",
    "    #Breaking criteria\n",
    "    if prev_val_acc > val_metric[1]:\n",
    "        break\n",
    "    \n",
    "    prev_val_acc = val_metric[1]\n",
    "    \n",
    "    #saving model checkpoint\n",
    "    ecm.save_pretrained(path_to_save)\n",
    "    tokenizer.save_pretrained(path_to_save)\n",
    "    \n"
   ]
  },
  {
   "cell_type": "code",
   "execution_count": 35,
   "metadata": {},
   "outputs": [],
   "source": [
    "#model.save_pretrained(\"path_to_save\")\n",
    "#tokenizer.save_pretrained(\"path_to_save\")\n",
    "ecm.save_pretrained('../model/BART_empathy_14_classes_weighted_loss_copy/')"
   ]
  },
  {
   "cell_type": "markdown",
   "metadata": {},
   "source": [
    "## Evaluations"
   ]
  },
  {
   "cell_type": "code",
   "execution_count": 29,
   "metadata": {},
   "outputs": [],
   "source": [
    "def get_model_output(data_loader):\n",
    "    text = []\n",
    "    y_true = []\n",
    "    y_pred = []\n",
    "    logits = []\n",
    "    t=ecm.eval()\n",
    "    pbar = tqdm.tqdm(data_loader)\n",
    "    for data in pbar:\n",
    "        input_ids = data['input_ids'].to(device)\n",
    "        attention_mask = data['attention_mask'].to(device)\n",
    "        labels = data['labels'].to(device)\n",
    "        output = ecm(input_ids, attention_mask=attention_mask)\n",
    "        pred_labels = torch.argmax(output.logits,dim=1).detach().cpu().numpy().tolist()\n",
    "        labels_numpy = labels.detach().cpu().numpy().tolist()\n",
    "        y_true = y_true + labels_numpy\n",
    "        y_pred = y_pred + pred_labels\n",
    "        logits = torch.max(output.logits,dim=1).values.tolist()+logits\n",
    "        text = text + list(map( lambda x:tokenizer.decode(x,skip_special_tokens=True),input_ids ))\n",
    "\n",
    "    y_true=list(map(lambda x: id2lab[x],y_true))\n",
    "    y_pred = list(map(lambda x: id2lab[x],y_pred))\n",
    "    pred_out = text,y_true,y_pred,logits\n",
    "    df = pd.DataFrame({\n",
    "        'Text': pred_out[0],\n",
    "        'Target':pred_out[1],\n",
    "        'Predicted':pred_out[2],\n",
    "        'logits':pred_out[3]\n",
    "    })\n",
    "    return df\n",
    "\n"
   ]
  },
  {
   "cell_type": "code",
   "execution_count": 30,
   "metadata": {},
   "outputs": [],
   "source": [
    "ecm = Model.from_pretrained(path_to_save).to(device)"
   ]
  },
  {
   "cell_type": "code",
   "execution_count": 24,
   "metadata": {},
   "outputs": [
    {
     "name": "stderr",
     "output_type": "stream",
     "text": [
      "100%|██████████| 184/184 [01:05<00:00,  2.79it/s]\n"
     ]
    }
   ],
   "source": [
    "pred_out_df = get_model_output(val_loader)\n"
   ]
  },
  {
   "cell_type": "code",
   "execution_count": 25,
   "metadata": {},
   "outputs": [],
   "source": [
    "pickle.dump(pred_out_df,open( \"../data/val_data_15_w_no_emo_df.p\", \"wb\" ))"
   ]
  },
  {
   "cell_type": "code",
   "execution_count": 26,
   "metadata": {},
   "outputs": [
    {
     "name": "stdout",
     "output_type": "stream",
     "text": [
      "Normalized confusion matrix\n"
     ]
    },
    {
     "data": {
      "image/png": "[encoded data removed]",
      "text/plain": [
       "<Figure size 720x720 with 2 Axes>"
      ]
     },
     "metadata": {
      "needs_background": "light"
     },
     "output_type": "display_data"
    }
   ],
   "source": [
    "cm = confusion_matrix(pred_out_df['Target'],pred_out_df['Predicted'],labels=id2lab)\n",
    "plot_confusion_matrix(cm,id2lab,normalize=True,title=\"BART Confusion Matrix\")"
   ]
  },
  {
   "cell_type": "code",
   "execution_count": 27,
   "metadata": {},
   "outputs": [
    {
     "data": {
      "text/plain": [
       "0.780458335348673"
      ]
     },
     "execution_count": 27,
     "metadata": {},
     "output_type": "execute_result"
    }
   ],
   "source": [
    "f1 = f1_score(pred_out_df['Target'],pred_out_df['Predicted'],average=None)\n",
    "np.mean(f1)"
   ]
  },
  {
   "cell_type": "code",
   "execution_count": 28,
   "metadata": {},
   "outputs": [
    {
     "data": {
      "text/plain": [
       "array([0.81230769, 0.83505155, 0.81348315, 0.72727273, 0.8238342 ,\n",
       "       0.72874494, 0.63736264, 0.71090047, 0.64896755, 0.71090047,\n",
       "       0.88235294, 0.99746835, 0.80945347, 0.85448916, 0.71428571])"
      ]
     },
     "execution_count": 28,
     "metadata": {},
     "output_type": "execute_result"
    }
   ],
   "source": [
    "f1"
   ]
  },
  {
   "cell_type": "code",
   "execution_count": 29,
   "metadata": {},
   "outputs": [
    {
     "data": {
      "text/plain": [
       "0.792774369461486"
      ]
     },
     "execution_count": 29,
     "metadata": {},
     "output_type": "execute_result"
    }
   ],
   "source": [
    "accuracy_score(pred_out_df['Target'],pred_out_df['Predicted'])"
   ]
  },
  {
   "cell_type": "code",
   "execution_count": 33,
   "metadata": {},
   "outputs": [
    {
     "data": {
      "text/html": [
       "<div>\n",
       "<style scoped>\n",
       "    .dataframe tbody tr th:only-of-type {\n",
       "        vertical-align: middle;\n",
       "    }\n",
       "\n",
       "    .dataframe tbody tr th {\n",
       "        vertical-align: top;\n",
       "    }\n",
       "\n",
       "    .dataframe thead th {\n",
       "        text-align: right;\n",
       "    }\n",
       "</style>\n",
       "<table border=\"1\" class=\"dataframe\">\n",
       "  <thead>\n",
       "    <tr style=\"text-align: right;\">\n",
       "      <th></th>\n",
       "      <th>text</th>\n",
       "      <th>labels</th>\n",
       "      <th>logits</th>\n",
       "    </tr>\n",
       "  </thead>\n",
       "  <tbody>\n",
       "    <tr>\n",
       "      <th>0</th>\n",
       "      <td>How are you</td>\n",
       "      <td>happy</td>\n",
       "      <td>2.291057</td>\n",
       "    </tr>\n",
       "    <tr>\n",
       "      <th>1</th>\n",
       "      <td>I am going out tomorrow to get some groceries</td>\n",
       "      <td>confident</td>\n",
       "      <td>5.117095</td>\n",
       "    </tr>\n",
       "    <tr>\n",
       "      <th>2</th>\n",
       "      <td>I drink milk everyday</td>\n",
       "      <td>faithful</td>\n",
       "      <td>3.407278</td>\n",
       "    </tr>\n",
       "    <tr>\n",
       "      <th>3</th>\n",
       "      <td>are you a boy</td>\n",
       "      <td>ashamed</td>\n",
       "      <td>1.473150</td>\n",
       "    </tr>\n",
       "    <tr>\n",
       "      <th>4</th>\n",
       "      <td>Do you know me</td>\n",
       "      <td>sentimental</td>\n",
       "      <td>2.269664</td>\n",
       "    </tr>\n",
       "    <tr>\n",
       "      <th>5</th>\n",
       "      <td>I went to market yesterday to purchase food</td>\n",
       "      <td>confident</td>\n",
       "      <td>3.923620</td>\n",
       "    </tr>\n",
       "    <tr>\n",
       "      <th>6</th>\n",
       "      <td>Do I have a better chance to get this job</td>\n",
       "      <td>confident</td>\n",
       "      <td>4.660431</td>\n",
       "    </tr>\n",
       "    <tr>\n",
       "      <th>7</th>\n",
       "      <td>Can I go outside</td>\n",
       "      <td>afraid</td>\n",
       "      <td>4.472110</td>\n",
       "    </tr>\n",
       "    <tr>\n",
       "      <th>8</th>\n",
       "      <td>you are annoyning me, I am too tired, please g...</td>\n",
       "      <td>angry</td>\n",
       "      <td>4.785026</td>\n",
       "    </tr>\n",
       "    <tr>\n",
       "      <th>9</th>\n",
       "      <td>I failed my exam</td>\n",
       "      <td>ashamed</td>\n",
       "      <td>4.504467</td>\n",
       "    </tr>\n",
       "    <tr>\n",
       "      <th>10</th>\n",
       "      <td>I broke my leg</td>\n",
       "      <td>sad</td>\n",
       "      <td>4.502154</td>\n",
       "    </tr>\n",
       "    <tr>\n",
       "      <th>11</th>\n",
       "      <td>Are you mad? why are you repeating the same th...</td>\n",
       "      <td>angry</td>\n",
       "      <td>6.220505</td>\n",
       "    </tr>\n",
       "    <tr>\n",
       "      <th>12</th>\n",
       "      <td>I am going for sleep now</td>\n",
       "      <td>happy</td>\n",
       "      <td>3.589905</td>\n",
       "    </tr>\n",
       "    <tr>\n",
       "      <th>13</th>\n",
       "      <td>My dog died.What should I do?</td>\n",
       "      <td>sad</td>\n",
       "      <td>7.047266</td>\n",
       "    </tr>\n",
       "    <tr>\n",
       "      <th>14</th>\n",
       "      <td>I won the lottery yesterday</td>\n",
       "      <td>surprised</td>\n",
       "      <td>4.082504</td>\n",
       "    </tr>\n",
       "    <tr>\n",
       "      <th>15</th>\n",
       "      <td>Why the hell are you irritating me?</td>\n",
       "      <td>angry</td>\n",
       "      <td>6.584342</td>\n",
       "    </tr>\n",
       "    <tr>\n",
       "      <th>16</th>\n",
       "      <td>Why are you standing here?</td>\n",
       "      <td>angry</td>\n",
       "      <td>2.978471</td>\n",
       "    </tr>\n",
       "    <tr>\n",
       "      <th>17</th>\n",
       "      <td>I like to go out after eating</td>\n",
       "      <td>happy</td>\n",
       "      <td>2.749465</td>\n",
       "    </tr>\n",
       "    <tr>\n",
       "      <th>18</th>\n",
       "      <td>I am doing good</td>\n",
       "      <td>happy</td>\n",
       "      <td>3.510424</td>\n",
       "    </tr>\n",
       "    <tr>\n",
       "      <th>19</th>\n",
       "      <td>Its my son's birthday tomorrow</td>\n",
       "      <td>sentimental</td>\n",
       "      <td>6.143292</td>\n",
       "    </tr>\n",
       "    <tr>\n",
       "      <th>20</th>\n",
       "      <td>Where is your better half</td>\n",
       "      <td>sad</td>\n",
       "      <td>4.786499</td>\n",
       "    </tr>\n",
       "  </tbody>\n",
       "</table>\n",
       "</div>"
      ],
      "text/plain": [
       "                                                 text       labels    logits\n",
       "0                                         How are you        happy  2.291057\n",
       "1       I am going out tomorrow to get some groceries    confident  5.117095\n",
       "2                               I drink milk everyday     faithful  3.407278\n",
       "3                                       are you a boy      ashamed  1.473150\n",
       "4                                      Do you know me  sentimental  2.269664\n",
       "5         I went to market yesterday to purchase food    confident  3.923620\n",
       "6           Do I have a better chance to get this job    confident  4.660431\n",
       "7                                    Can I go outside       afraid  4.472110\n",
       "8   you are annoyning me, I am too tired, please g...        angry  4.785026\n",
       "9                                    I failed my exam      ashamed  4.504467\n",
       "10                                     I broke my leg          sad  4.502154\n",
       "11  Are you mad? why are you repeating the same th...        angry  6.220505\n",
       "12                           I am going for sleep now        happy  3.589905\n",
       "13                      My dog died.What should I do?          sad  7.047266\n",
       "14                        I won the lottery yesterday    surprised  4.082504\n",
       "15                Why the hell are you irritating me?        angry  6.584342\n",
       "16                         Why are you standing here?        angry  2.978471\n",
       "17                      I like to go out after eating        happy  2.749465\n",
       "18                                    I am doing good        happy  3.510424\n",
       "19                     Its my son's birthday tomorrow  sentimental  6.143292\n",
       "20                          Where is your better half          sad  4.786499"
      ]
     },
     "execution_count": 33,
     "metadata": {},
     "output_type": "execute_result"
    }
   ],
   "source": [
    "texts = [\n",
    "    'How are you',\n",
    "    'I am going out tomorrow to get some groceries',\n",
    "    \"I drink milk everyday\",\n",
    "    \"are you a boy\",\n",
    "    \"Do you know me\",\n",
    "    \"I went to market yesterday to purchase food\",\n",
    "    \"Do I have a better chance to get this job\",\n",
    "    \"Can I go outside\",\n",
    "    \"you are annoyning me, I am too tired, please go away\",\n",
    "    \"I failed my exam\",\n",
    "    \"I broke my leg\",\n",
    "    \"Are you mad? why are you repeating the same thing again and again\",\n",
    "    \"I am going for sleep now\",\n",
    "    \"My dog died.What should I do?\",\n",
    "    \"I won the lottery yesterday\",\n",
    "    \"Why the hell are you irritating me?\",\n",
    "    \"Why are you standing here?\",\n",
    "    \"I like to go out after eating\",\n",
    "    \"I am doing good\",\n",
    "    \"Its my son's birthday tomorrow\",\n",
    "    \"Where is your better half\"\n",
    "]\n",
    "tokens = tokenizer(texts,truncation=True, padding='longest', return_tensors=\"pt\")\n",
    "input_ids = tokens['input_ids'].to(device)\n",
    "attention_mask = tokens[\"attention_mask\"].to(device)\n",
    "output = ecm(input_ids, attention_mask=attention_mask)\n",
    "pred_labels = torch.argmax(output.logits,dim=1).detach().cpu().numpy()\n",
    "df = pd.DataFrame({\n",
    "    \"text\":texts,\n",
    "    \"labels\":list(map(lambda x: id2lab[x],pred_labels)),\n",
    "    \"logits\":torch.max(output.logits,dim=1).values.tolist()\n",
    "    \n",
    "})\n",
    "df"
   ]
  },
  {
   "cell_type": "code",
   "execution_count": 11,
   "metadata": {},
   "outputs": [],
   "source": []
  },
  {
   "cell_type": "code",
   "execution_count": 29,
   "metadata": {},
   "outputs": [],
   "source": [
    "x = np.array(pickle.load(open(\"../data/x_train.p\",\"rb\")))\n",
    "y = np.array(pickle.load(open(\"../data/y_train.p\",\"rb\")))\n",
    "no_ques = []\n",
    "ques = []\n",
    "x0 = x[y==0]\n",
    "for text in x0:\n",
    "    if text[-1]!='?':\n",
    "        no_ques.append(text)\n",
    "    else:\n",
    "        ques.append(text)"
   ]
  },
  {
   "cell_type": "code",
   "execution_count": 30,
   "metadata": {},
   "outputs": [
    {
     "data": {
      "text/html": [
       "<div>\n",
       "<style scoped>\n",
       "    .dataframe tbody tr th:only-of-type {\n",
       "        vertical-align: middle;\n",
       "    }\n",
       "\n",
       "    .dataframe tbody tr th {\n",
       "        vertical-align: top;\n",
       "    }\n",
       "\n",
       "    .dataframe thead th {\n",
       "        text-align: right;\n",
       "    }\n",
       "</style>\n",
       "<table border=\"1\" class=\"dataframe\">\n",
       "  <thead>\n",
       "    <tr style=\"text-align: right;\">\n",
       "      <th></th>\n",
       "      <th>texts</th>\n",
       "    </tr>\n",
       "  </thead>\n",
       "  <tbody>\n",
       "    <tr>\n",
       "      <th>0</th>\n",
       "      <td>Lucy , where are you going ?</td>\n",
       "    </tr>\n",
       "    <tr>\n",
       "      <th>1</th>\n",
       "      <td>What do you recycle in your plant ?</td>\n",
       "    </tr>\n",
       "    <tr>\n",
       "      <th>2</th>\n",
       "      <td>Where's your better half ?</td>\n",
       "    </tr>\n",
       "    <tr>\n",
       "      <th>3</th>\n",
       "      <td>Then do I have the chance to get this job ?</td>\n",
       "    </tr>\n",
       "    <tr>\n",
       "      <th>4</th>\n",
       "      <td>No , it isn't mine . I blundered upon it under...</td>\n",
       "    </tr>\n",
       "    <tr>\n",
       "      <th>5</th>\n",
       "      <td>I bought a pair of trousers last year , which ...</td>\n",
       "    </tr>\n",
       "    <tr>\n",
       "      <th>6</th>\n",
       "      <td>Business is booming . I understand you want to...</td>\n",
       "    </tr>\n",
       "    <tr>\n",
       "      <th>7</th>\n",
       "      <td>It's very confusing in here , isn't it ?</td>\n",
       "    </tr>\n",
       "    <tr>\n",
       "      <th>8</th>\n",
       "      <td>Perhaps you should exercise more . Why don't y...</td>\n",
       "    </tr>\n",
       "    <tr>\n",
       "      <th>9</th>\n",
       "      <td>Wonderland Travel , may I help you ?</td>\n",
       "    </tr>\n",
       "  </tbody>\n",
       "</table>\n",
       "</div>"
      ],
      "text/plain": [
       "                                               texts\n",
       "0                       Lucy , where are you going ?\n",
       "1                What do you recycle in your plant ?\n",
       "2                         Where's your better half ?\n",
       "3        Then do I have the chance to get this job ?\n",
       "4  No , it isn't mine . I blundered upon it under...\n",
       "5  I bought a pair of trousers last year , which ...\n",
       "6  Business is booming . I understand you want to...\n",
       "7           It's very confusing in here , isn't it ?\n",
       "8  Perhaps you should exercise more . Why don't y...\n",
       "9               Wonderland Travel , may I help you ?"
      ]
     },
     "execution_count": 30,
     "metadata": {},
     "output_type": "execute_result"
    }
   ],
   "source": [
    "ques_df = pd.DataFrame({\n",
    "    'texts':ques\n",
    "})\n",
    "ques_df.head(10)"
   ]
  },
  {
   "cell_type": "code",
   "execution_count": 27,
   "metadata": {},
   "outputs": [],
   "source": [
    "mn ='../model/BART_13_no_weight_anxious/'\n",
    "ecm = Model.from_pretrained(mn).to(device)\n",
    "tokenizer = ModelTokenizer.from_pretrained(mn)"
   ]
  },
  {
   "cell_type": "code",
   "execution_count": 31,
   "metadata": {},
   "outputs": [
    {
     "name": "stderr",
     "output_type": "stream",
     "text": [
      "100%|██████████| 878/878 [02:00<00:00,  7.30it/s]\n"
     ]
    }
   ],
   "source": [
    "data_loader = get_dataloader(ques,tokenizer,batch_size=8)\n",
    "pred_no_ques_df = get_model_output(data_loader)"
   ]
  },
  {
   "cell_type": "code",
   "execution_count": 32,
   "metadata": {},
   "outputs": [],
   "source": [
    "pickle.dump(pred_no_ques_df,open( \"../data/gpt2_14_w_ques_df.p\", \"wb\" ))"
   ]
  },
  {
   "cell_type": "code",
   "execution_count": null,
   "metadata": {},
   "outputs": [],
   "source": [
    "pd.set_option('display.max_colwidth', 0)\n",
    "pred_no_ques_df.head(50)"
   ]
  },
  {
   "cell_type": "code",
   "execution_count": 51,
   "metadata": {},
   "outputs": [],
   "source": [
    "pickle.dump(pred_no_ques_df,open( \"../data/gpt2_14_rms_weighted_df.p\", \"wb\" ))"
   ]
  },
  {
   "cell_type": "code",
   "execution_count": 28,
   "metadata": {},
   "outputs": [
    {
     "name": "stdout",
     "output_type": "stream",
     "text": [
      "Wed Jan  6 13:57:53 2021       \n",
      "+-----------------------------------------------------------------------------+\n",
      "| NVIDIA-SMI 384.130                Driver Version: 384.130                   |\n",
      "|-------------------------------+----------------------+----------------------+\n",
      "| GPU  Name        Persistence-M| Bus-Id        Disp.A | Volatile Uncorr. ECC |\n",
      "| Fan  Temp  Perf  Pwr:Usage/Cap|         Memory-Usage | GPU-Util  Compute M. |\n",
      "|===============================+======================+======================|\n",
      "|   0  Graphics Device     Off  | 00000000:41:00.0 Off |                    0 |\n",
      "| N/A   41C    P0    37W / 250W |  22488MiB / 32502MiB |      0%      Default |\n",
      "+-------------------------------+----------------------+----------------------+\n",
      "|   1  Graphics Device     Off  | 00000000:C1:00.0 Off |                    0 |\n",
      "| N/A   35C    P0    26W / 250W |     10MiB / 32502MiB |      0%      Default |\n",
      "+-------------------------------+----------------------+----------------------+\n",
      "                                                                               \n",
      "+-----------------------------------------------------------------------------+\n",
      "| Processes:                                                       GPU Memory |\n",
      "|  GPU       PID   Type   Process name                             Usage      |\n",
      "|=============================================================================|\n",
      "|    0     55457      C   ...urav/conda_envs/deeplearning/bin/python 22478MiB |\n",
      "+-----------------------------------------------------------------------------+\n"
     ]
    }
   ],
   "source": [
    "!nvidia-smi"
   ]
  },
  {
   "cell_type": "code",
   "execution_count": null,
   "metadata": {},
   "outputs": [],
   "source": [
    "!kill -9 54372"
   ]
  },
  {
   "cell_type": "code",
   "execution_count": 45,
   "metadata": {},
   "outputs": [
    {
     "data": {
      "text/plain": [
       "[Text(0.5, 1.0, 'Frequency Histogram'), Text(0, 0.5, 'Frequency')]"
      ]
     },
     "execution_count": 45,
     "metadata": {},
     "output_type": "execute_result"
    },
    {
     "data": {
      "image/png": "[encoded data removed]",
      "text/plain": [
       "<Figure size 720x720 with 1 Axes>"
      ]
     },
     "metadata": {
      "needs_background": "light"
     },
     "output_type": "display_data"
    }
   ],
   "source": [
    "# Plot Histogram on x\n",
    "x = np.array(pred_out_df.logits)\n",
    "plt.hist(x, bins=50)\n",
    "plt.gca().set(title='Frequency Histogram', ylabel='Frequency')"
   ]
  },
  {
   "cell_type": "code",
   "execution_count": 33,
   "metadata": {},
   "outputs": [
    {
     "data": {
      "text/plain": [
       "[Text(0.5, 1.0, 'Frequency Histogram'), Text(0, 0.5, 'Frequency')]"
      ]
     },
     "execution_count": 33,
     "metadata": {},
     "output_type": "execute_result"
    },
    {
     "data": {
      "image/png": "[encoded data removed]",
      "text/plain": [
       "<Figure size 720x720 with 1 Axes>"
      ]
     },
     "metadata": {
      "needs_background": "light"
     },
     "output_type": "display_data"
    }
   ],
   "source": [
    "plt.rcParams[\"figure.figsize\"] = (10,10)\n",
    "x = np.array(pred_no_ques_df.logits)\n",
    "plt.hist(x, bins=50)\n",
    "plt.gca().set(title='Frequency Histogram', ylabel='Frequency')"
   ]
  },
  {
   "cell_type": "code",
   "execution_count": 34,
   "metadata": {},
   "outputs": [
    {
     "data": {
      "text/plain": [
       "0.8743052586575459"
      ]
     },
     "execution_count": 34,
     "metadata": {},
     "output_type": "execute_result"
    }
   ],
   "source": [
    "np.mean(pred_no_ques_df.logits<4.5)"
   ]
  },
  {
   "cell_type": "code",
   "execution_count": 38,
   "metadata": {},
   "outputs": [
    {
     "data": {
      "image/png": "[encoded data removed]",
      "text/plain": [
       "<Figure size 720x720 with 1 Axes>"
      ]
     },
     "metadata": {
      "needs_background": "light"
     },
     "output_type": "display_data"
    }
   ],
   "source": [
    "bins = np.linspace(0, 10, 100)\n",
    "\n",
    "plt.hist(pred_out_df.logits, bins, alpha=0.5, label='Emotions',density= True)\n",
    "plt.hist(pred_no_ques_df.logits,bins, alpha=0.5, label='No Emotions',density= True)\n",
    "#plt.axvline(x=results.query('Model==@mod_name')['Threshold'].item(), c = 'red',ls='--',animated=True,label ='Threshold')\n",
    "plt.legend(loc='upper right')\n",
    "plt.show()"
   ]
  },
  {
   "cell_type": "code",
   "execution_count": 57,
   "metadata": {},
   "outputs": [
    {
     "data": {
      "text/plain": [
       "1.9990789651870728"
      ]
     },
     "execution_count": 57,
     "metadata": {},
     "output_type": "execute_result"
    }
   ],
   "source": [
    "np.quantile(x,0.60)"
   ]
  },
  {
   "cell_type": "code",
   "execution_count": 58,
   "metadata": {},
   "outputs": [
    {
     "data": {
      "text/plain": [
       "1.85876031765834"
      ]
     },
     "execution_count": 58,
     "metadata": {},
     "output_type": "execute_result"
    }
   ],
   "source": [
    "np.mean(x)"
   ]
  },
  {
   "cell_type": "code",
   "execution_count": 59,
   "metadata": {},
   "outputs": [],
   "source": [
    "y=np.array(pred_out_df.logits)"
   ]
  },
  {
   "cell_type": "code",
   "execution_count": 61,
   "metadata": {},
   "outputs": [
    {
     "data": {
      "text/plain": [
       "1.7142771482467651"
      ]
     },
     "execution_count": 61,
     "metadata": {},
     "output_type": "execute_result"
    }
   ],
   "source": [
    "np.quantile(y,0.1)"
   ]
  },
  {
   "cell_type": "code",
   "execution_count": 62,
   "metadata": {},
   "outputs": [
    {
     "data": {
      "text/plain": [
       "0.6456816422209044"
      ]
     },
     "execution_count": 62,
     "metadata": {},
     "output_type": "execute_result"
    }
   ],
   "source": [
    "np.percentile(x,np.quantile(y,0.1))"
   ]
  },
  {
   "cell_type": "code",
   "execution_count": 6,
   "metadata": {},
   "outputs": [],
   "source": [
    "x = torch.tensor([22,4,30,9,14])"
   ]
  },
  {
   "cell_type": "code",
   "execution_count": 7,
   "metadata": {},
   "outputs": [
    {
     "data": {
      "text/plain": [
       "tensor([22,  4, 30,  9, 14])"
      ]
     },
     "execution_count": 7,
     "metadata": {},
     "output_type": "execute_result"
    }
   ],
   "source": [
    "x"
   ]
  },
  {
   "cell_type": "code",
   "execution_count": 12,
   "metadata": {},
   "outputs": [],
   "source": [
    "y = x.sort(descending=True)"
   ]
  },
  {
   "cell_type": "code",
   "execution_count": 13,
   "metadata": {},
   "outputs": [
    {
     "data": {
      "text/plain": [
       "torch.return_types.sort(\n",
       "values=tensor([30, 22, 14,  9,  4]),\n",
       "indices=tensor([2, 0, 4, 3, 1]))"
      ]
     },
     "execution_count": 13,
     "metadata": {},
     "output_type": "execute_result"
    }
   ],
   "source": [
    "y"
   ]
  },
  {
   "cell_type": "code",
   "execution_count": 17,
   "metadata": {},
   "outputs": [
    {
     "data": {
      "text/plain": [
       "[30, 22, 14, 9, 4]"
      ]
     },
     "execution_count": 17,
     "metadata": {},
     "output_type": "execute_result"
    }
   ],
   "source": [
    "y[0].tolist()"
   ]
  },
  {
   "cell_type": "code",
   "execution_count": 19,
   "metadata": {},
   "outputs": [
    {
     "data": {
      "text/plain": [
       "2"
      ]
     },
     "execution_count": 19,
     "metadata": {},
     "output_type": "execute_result"
    }
   ],
   "source": [
    "y[1][0].item()"
   ]
  },
  {
   "cell_type": "code",
   "execution_count": null,
   "metadata": {},
   "outputs": [],
   "source": []
  }
 ],
 "metadata": {
  "kernelspec": {
   "display_name": "deeplearning",
   "language": "python",
   "name": "deeplearning"
  },
  "language_info": {
   "codemirror_mode": {
    "name": "ipython",
    "version": 3
   },
   "file_extension": ".py",
   "mimetype": "text/x-python",
   "name": "python",
   "nbconvert_exporter": "python",
   "pygments_lexer": "ipython3",
   "version": "3.7.9"
  }
 },
 "nbformat": 4,
 "nbformat_minor": 4
}
