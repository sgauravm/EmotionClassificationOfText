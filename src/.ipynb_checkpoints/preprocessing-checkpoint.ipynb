{
 "cells": [
  {
   "cell_type": "code",
   "execution_count": 13,
   "metadata": {},
   "outputs": [],
   "source": [
    "import pandas as pd\n",
    "import json\n",
    "import random\n",
    "from sklearn.model_selection import train_test_split\n",
    "import pickle"
   ]
  },
  {
   "cell_type": "code",
   "execution_count": 14,
   "metadata": {},
   "outputs": [],
   "source": [
    "def get_no_emo_data(file_path):\n",
    "    chats = []\n",
    "    for line in open(file_path, 'r'):\n",
    "        chats.append(json.loads(line))\n",
    "    data = []\n",
    "    for chat in chats:\n",
    "        for text in chat['dialogue']:\n",
    "            if text['emotion'] == 'no_emotion':\n",
    "                data.append(text['text'])\n",
    "    return data\n",
    "\n",
    "def get_empathy_data(file_path):\n",
    "    data = pd.read_csv(file_path,error_bad_lines=False)\n",
    "    data = list(data[['conv_id','prompt']].groupby(\"conv_id\").agg('max')['prompt','context'])\n",
    "    data = list(map(lambda x: x.replace('_comma_',' ,'),data))\n",
    "    return data\n",
    "            "
   ]
  },
  {
   "cell_type": "code",
   "execution_count": 15,
   "metadata": {},
   "outputs": [],
   "source": [
    "train_path = '../data/dailydialog/train.json'\n",
    "val_path = '../data/dailydialog/valid.json'\n",
    "test_path = '../data/dailydialog/test.json'\n",
    "no_emo_data = get_no_emo_data(train_path) + get_no_emo_data(val_path) + get_no_emo_data(test_path)"
   ]
  },
  {
   "cell_type": "code",
   "execution_count": null,
   "metadata": {},
   "outputs": [],
   "source": [
    "empathy_train_path = \"../data/empatheticdialogues/train.csv\"\n",
    "empathy_valid_path = \"../data/empatheticdialogues/valid.csv\"\n",
    "empathy_test_path = \"../data/empatheticdialogues/test.csv\"\n",
    "empathy_data = get_empathy_data(empathy_train_path)+get_empathy_data(empathy_valid_path)+get_empathy_data(empathy_test_path)"
   ]
  },
  {
   "cell_type": "code",
   "execution_count": 7,
   "metadata": {},
   "outputs": [],
   "source": [
    "no_emo_data_sampled = random.sample(no_emo_data,len(empathy_data))"
   ]
  },
  {
   "cell_type": "code",
   "execution_count": 8,
   "metadata": {},
   "outputs": [],
   "source": [
    "no_emo_label = [0]*len(empathy_data)\n",
    "empathy_label = [1]*len(empathy_data)"
   ]
  },
  {
   "cell_type": "code",
   "execution_count": 9,
   "metadata": {},
   "outputs": [],
   "source": [
    "data = no_emo_data_sampled + empathy_data\n",
    "label = no_emo_label + empathy_label"
   ]
  },
  {
   "cell_type": "code",
   "execution_count": 23,
   "metadata": {},
   "outputs": [],
   "source": [
    "x_train, x_test, y_train, y_test = train_test_split(data, label, test_size=0.15, random_state=42)"
   ]
  },
  {
   "cell_type": "code",
   "execution_count": 22,
   "metadata": {},
   "outputs": [
    {
     "data": {
      "text/plain": [
       "33327.0"
      ]
     },
     "execution_count": 22,
     "metadata": {},
     "output_type": "execute_result"
    }
   ],
   "source": [
    "len(x_train)*0.9"
   ]
  },
  {
   "cell_type": "code",
   "execution_count": 24,
   "metadata": {},
   "outputs": [],
   "source": [
    "pickle.dump(x_train,open( \"../data/x_train.p\", \"wb\" ))\n",
    "pickle.dump(y_train,open( \"../data/y_train.p\", \"wb\" ))\n",
    "pickle.dump(x_test,open( \"../data/x_test.p\", \"wb\" ))\n",
    "pickle.dump(y_test,open( \"../data/y_test.p\", \"wb\" ))"
   ]
  },
  {
   "cell_type": "code",
   "execution_count": 30,
   "metadata": {},
   "outputs": [],
   "source": [
    "x = pickle.load(open( \"../data/x_train.p\", \"rb\" ))\n",
    "y = pickle.load(open( \"../data/y_train.p\", \"rb\" ))"
   ]
  },
  {
   "cell_type": "code",
   "execution_count": 28,
   "metadata": {},
   "outputs": [
    {
     "data": {
      "text/plain": [
       "39344"
      ]
     },
     "execution_count": 28,
     "metadata": {},
     "output_type": "execute_result"
    }
   ],
   "source": [
    "len(x)"
   ]
  },
  {
   "cell_type": "code",
   "execution_count": 8,
   "metadata": {},
   "outputs": [],
   "source": [
    "x = pickle.load(open( \"../data/tpchat/dialoguedata.p\", \"rb\" ))"
   ]
  },
  {
   "cell_type": "code",
   "execution_count": 12,
   "metadata": {},
   "outputs": [
    {
     "data": {
      "text/plain": [
       "[[314, 4240, 611, 484, 1138, 703, 326, 561, 467, 422, 612],\n",
       " [1312, 4724, 29294, 810, 262, 9546, 366, 9246, 25422, 1, 2058, 422],\n",
       " [3363,\n",
       "  326,\n",
       "  318,\n",
       "  4998,\n",
       "  13,\n",
       "  679,\n",
       "  1839,\n",
       "  262,\n",
       "  9764,\n",
       "  9071,\n",
       "  17792,\n",
       "  12,\n",
       "  11693,\n",
       "  12184,\n",
       "  736,\n",
       "  287,\n",
       "  24648,\n",
       "  287,\n",
       "  1109,\n",
       "  13],\n",
       " [314, 4240, 611, 484, 550, 1138, 644, 339, 561, 423, 3194, 546, 607, 13],\n",
       " [314, 760, 783, 790, 2435, 314, 1280, 308, 4529, 314, 892, 286, 5482, 3245]]"
      ]
     },
     "execution_count": 12,
     "metadata": {},
     "output_type": "execute_result"
    }
   ],
   "source": []
  },
  {
   "cell_type": "code",
   "execution_count": 19,
   "metadata": {},
   "outputs": [
    {
     "name": "stderr",
     "output_type": "stream",
     "text": [
      "b'Skipping line 2355: expected 8 fields, saw 10\\nSkipping line 36628: expected 8 fields, saw 12\\nSkipping line 49433: expected 8 fields, saw 10\\nSkipping line 56957: expected 8 fields, saw 10\\nSkipping line 65019: expected 8 fields, saw 10\\n'\n"
     ]
    }
   ],
   "source": [
    "ed = pd.read_csv(empathy_train_path,error_bad_lines=False)"
   ]
  },
  {
   "cell_type": "code",
   "execution_count": 20,
   "metadata": {},
   "outputs": [
    {
     "name": "stdout",
     "output_type": "stream",
     "text": [
      "<class 'pandas.core.frame.DataFrame'>\n",
      "RangeIndex: 76668 entries, 0 to 76667\n",
      "Data columns (total 8 columns):\n",
      " #   Column         Non-Null Count  Dtype \n",
      "---  ------         --------------  ----- \n",
      " 0   conv_id        76668 non-null  object\n",
      " 1   utterance_idx  76668 non-null  int64 \n",
      " 2   context        76668 non-null  object\n",
      " 3   prompt         76668 non-null  object\n",
      " 4   speaker_idx    76668 non-null  int64 \n",
      " 5   utterance      76668 non-null  object\n",
      " 6   selfeval       76668 non-null  object\n",
      " 7   tags           693 non-null    object\n",
      "dtypes: int64(2), object(6)\n",
      "memory usage: 4.7+ MB\n"
     ]
    }
   ],
   "source": [
    "ed.info()"
   ]
  },
  {
   "cell_type": "code",
   "execution_count": 28,
   "metadata": {},
   "outputs": [
    {
     "data": {
      "text/plain": [
       "['angry',\n",
       " 'impressed',\n",
       " 'disgusted',\n",
       " 'surprised',\n",
       " 'terrified',\n",
       " 'anxious',\n",
       " 'grateful',\n",
       " 'content',\n",
       " 'annoyed',\n",
       " 'furious',\n",
       " 'disappointed',\n",
       " 'faithful',\n",
       " 'apprehensive',\n",
       " 'guilty',\n",
       " 'afraid',\n",
       " 'devastated',\n",
       " 'nostalgic',\n",
       " 'confident',\n",
       " 'proud',\n",
       " 'prepared',\n",
       " 'caring',\n",
       " 'excited',\n",
       " 'trusting',\n",
       " 'lonely',\n",
       " 'hopeful',\n",
       " 'embarrassed',\n",
       " 'jealous',\n",
       " 'sad',\n",
       " 'sentimental',\n",
       " 'joyful',\n",
       " 'ashamed',\n",
       " 'anticipating']"
      ]
     },
     "execution_count": 28,
     "metadata": {},
     "output_type": "execute_result"
    }
   ],
   "source": [
    "list(set(ed.context))"
   ]
  },
  {
   "cell_type": "code",
   "execution_count": null,
   "metadata": {},
   "outputs": [],
   "source": []
  }
 ],
 "metadata": {
  "kernelspec": {
   "display_name": "deeplearning",
   "language": "python",
   "name": "deeplearning"
  },
  "language_info": {
   "codemirror_mode": {
    "name": "ipython",
    "version": 3
   },
   "file_extension": ".py",
   "mimetype": "text/x-python",
   "name": "python",
   "nbconvert_exporter": "python",
   "pygments_lexer": "ipython3",
   "version": "3.7.9"
  }
 },
 "nbformat": 4,
 "nbformat_minor": 4
}
